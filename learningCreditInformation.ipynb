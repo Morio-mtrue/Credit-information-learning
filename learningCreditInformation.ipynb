{
 "cells": [
  {
   "cell_type": "code",
   "execution_count": 18,
   "metadata": {},
   "outputs": [
    {
     "name": "stdout",
     "output_type": "stream",
     "text": [
      "Validation AUC (Random Forest): 0.7367\n"
     ]
    }
   ],
   "source": [
    "# 1. Import libraries\n",
    "import pandas as pd\n",
    "import numpy as np\n",
    "from sklearn.model_selection import train_test_split\n",
    "from sklearn.ensemble import RandomForestClassifier\n",
    "from sklearn.metrics import roc_auc_score\n",
    "from sklearn.preprocessing import LabelEncoder\n",
    "\n",
    "# 2. Load data\n",
    "data = pd.read_csv('application_train.csv')\n",
    "\n",
    "# 3. Preprocessing\n",
    "# Fill missing values with median\n",
    "#data = data.fillna(data.median())\n",
    "\n",
    "# Encode categorical variables\n",
    "cat_cols = data.select_dtypes(include='object').columns\n",
    "le = LabelEncoder()\n",
    "\n",
    "for col in cat_cols:\n",
    "    data[col] = le.fit_transform(data[col].astype(str))\n",
    "\n",
    "# 4. Features and target\n",
    "X = data.drop(columns=['TARGET', 'SK_ID_CURR'])\n",
    "y = data['TARGET']\n",
    "\n",
    "# 5. Split into training and testing sets (e.g., 80% train, 20% test)\n",
    "X_train, X_test, y_train, y_test = train_test_split(\n",
    "    X, y, test_size=0.2, random_state=42\n",
    ")\n",
    "\n",
    "# 6. Train Random Forest model\n",
    "model = RandomForestClassifier(\n",
    "    n_estimators=100,\n",
    "    max_depth=8,\n",
    "    random_state=42,\n",
    "    n_jobs=-1\n",
    ")\n",
    "model.fit(X_train, y_train)\n",
    "\n",
    "# 7. Predict and evaluate\n",
    "y_pred_proba = model.predict_proba(X_test)[:, 1]\n",
    "auc = roc_auc_score(y_test, y_pred_proba)\n",
    "print(f\"Validation AUC (Random Forest): {auc:.4f}\")\n"
   ]
  },
  {
   "cell_type": "markdown",
   "metadata": {},
   "source": [
    "##### Four. Device engineering ingenuity"
   ]
  },
  {
   "cell_type": "markdown",
   "metadata": {},
   "source": [
    "shared setup"
   ]
  },
  {
   "cell_type": "code",
   "execution_count": 19,
   "metadata": {},
   "outputs": [],
   "source": [
    "import pandas as pd\n",
    "import numpy as np\n",
    "from sklearn.model_selection import train_test_split\n",
    "from sklearn.ensemble import RandomForestClassifier\n",
    "from sklearn.metrics import roc_auc_score\n",
    "from sklearn.preprocessing import LabelEncoder\n",
    "\n",
    "# Load data\n",
    "data_raw = pd.read_csv('application_train.csv')\n",
    "\n",
    "# Label encoding for object columns\n",
    "def evaluate(df, name):\n",
    "    df = df.copy()\n",
    "    \n",
    "    # Check that 'TARGET' and 'SK_ID_CURR' exist\n",
    "    if 'TARGET' not in df.columns or 'SK_ID_CURR' not in df.columns:\n",
    "        raise ValueError(\"DataFrame must contain 'TARGET' and 'SK_ID_CURR' columns.\")\n",
    "    \n",
    "    # Drop rows where TARGET is missing\n",
    "    df = df[df['TARGET'].notnull()]\n",
    "\n",
    "    # Fill missing values\n",
    "    df = df.fillna(df.median(numeric_only=True))\n",
    "\n",
    "    # Encode categorical features\n",
    "    df = encode_categoricals(df)\n",
    "\n",
    "    # Features and target\n",
    "    X = df.drop(columns=['TARGET', 'SK_ID_CURR'])\n",
    "    y = df['TARGET']\n",
    "\n",
    "    # Check for any non-numeric columns (should not be present)\n",
    "    if X.select_dtypes(include='object').shape[1] > 0:\n",
    "        raise TypeError(\"Non-numeric columns found after encoding.\")\n",
    "\n",
    "    # Train-test split\n",
    "    X_train, X_test, y_train, y_test = train_test_split(\n",
    "        X, y, test_size=0.2, random_state=42\n",
    "    )\n",
    "\n",
    "    # Train model\n",
    "    model = RandomForestClassifier(n_estimators=100, max_depth=8, random_state=42, n_jobs=-1)\n",
    "    model.fit(X_train, y_train)\n",
    "\n",
    "    # Predict and evaluate\n",
    "    y_pred = model.predict_proba(X_test)[:, 1]\n",
    "    auc = roc_auc_score(y_test, y_pred)\n",
    "\n",
    "    print(f\"{name} AUC: {auc:.4f}\")\n",
    "    return model, auc\n",
    "\n"
   ]
  },
  {
   "cell_type": "markdown",
   "metadata": {},
   "source": [
    "Pattern 1: Drop Highly Missing Columns"
   ]
  },
  {
   "cell_type": "code",
   "execution_count": 20,
   "metadata": {},
   "outputs": [
    {
     "name": "stdout",
     "output_type": "stream",
     "text": [
      "Pattern 1 - Drop missing AUC: 0.7350\n"
     ]
    }
   ],
   "source": [
    "df1 = data_raw.copy()\n",
    "missing_thresh = 0.4\n",
    "to_drop = df1.columns[df1.isnull().mean() > missing_thresh]\n",
    "df1 = df1.drop(columns=to_drop)\n",
    "\n",
    "model1, auc1 = evaluate(df1, \"Pattern 1 - Drop missing\")\n"
   ]
  },
  {
   "cell_type": "markdown",
   "metadata": {},
   "source": [
    "Pattern 2: Add Ratio Features (Income/Credit)"
   ]
  },
  {
   "cell_type": "code",
   "execution_count": 21,
   "metadata": {},
   "outputs": [
    {
     "name": "stdout",
     "output_type": "stream",
     "text": [
      "Pattern 2 - Ratio features AUC: 0.7372\n"
     ]
    }
   ],
   "source": [
    "df2 = data_raw.copy()\n",
    "df2['INCOME_CREDIT_RATIO'] = df2['AMT_INCOME_TOTAL'] / df2['AMT_CREDIT']\n",
    "df2['ANNUITY_INCOME_RATIO'] = df2['AMT_ANNUITY'] / df2['AMT_INCOME_TOTAL']\n",
    "\n",
    "model2, auc2 = evaluate(df2, \"Pattern 2 - Ratio features\")\n"
   ]
  },
  {
   "cell_type": "markdown",
   "metadata": {},
   "source": [
    "Pattern 3: Create Age and Employment Features"
   ]
  },
  {
   "cell_type": "code",
   "execution_count": 22,
   "metadata": {},
   "outputs": [
    {
     "name": "stdout",
     "output_type": "stream",
     "text": [
      "Pattern 3 - Age & Employment AUC: 0.7340\n"
     ]
    }
   ],
   "source": [
    "df3 = data_raw.copy()\n",
    "df3['AGE_YEARS'] = -df3['DAYS_BIRTH'] / 365\n",
    "df3['YEARS_EMPLOYED'] = df3['DAYS_EMPLOYED'].replace(365243, np.nan) / -365\n",
    "df3['EMPLOYED_TO_AGE'] = df3['YEARS_EMPLOYED'] / df3['AGE_YEARS']\n",
    "\n",
    "model3, auc3 = evaluate(df3, \"Pattern 3 - Age & Employment\")\n"
   ]
  },
  {
   "cell_type": "markdown",
   "metadata": {},
   "source": [
    "Pattern 4: External Source Average + Product"
   ]
  },
  {
   "cell_type": "code",
   "execution_count": 23,
   "metadata": {},
   "outputs": [
    {
     "name": "stdout",
     "output_type": "stream",
     "text": [
      "Pattern 4 - EXT Source engineered AUC: 0.7413\n"
     ]
    }
   ],
   "source": [
    "df4 = data_raw.copy()\n",
    "ext = ['EXT_SOURCE_1', 'EXT_SOURCE_2', 'EXT_SOURCE_3']\n",
    "df4['EXT_MEAN'] = df4[ext].mean(axis=1)\n",
    "df4['EXT_PRODUCT'] = df4[ext].prod(axis=1)\n",
    "\n",
    "model4, auc4 = evaluate(df4, \"Pattern 4 - EXT Source engineered\")\n"
   ]
  },
  {
   "cell_type": "markdown",
   "metadata": {},
   "source": [
    "Pattern 5: Bin Age and Income"
   ]
  },
  {
   "cell_type": "code",
   "execution_count": 24,
   "metadata": {},
   "outputs": [
    {
     "name": "stdout",
     "output_type": "stream",
     "text": [
      "Pattern 5 - Binned age & income AUC: 0.7368\n"
     ]
    }
   ],
   "source": [
    "df5 = data_raw.copy()\n",
    "df5['AGE_BIN'] = pd.qcut(-df5['DAYS_BIRTH'], 5, labels=False)\n",
    "df5['INCOME_BIN'] = pd.qcut(df5['AMT_INCOME_TOTAL'], 5, labels=False)\n",
    "\n",
    "model5, auc5 = evaluate(df5, \"Pattern 5 - Binned age & income\")\n"
   ]
  },
  {
   "cell_type": "markdown",
   "metadata": {},
   "source": [
    "#### Final Model & Submission"
   ]
  },
  {
   "cell_type": "code",
   "execution_count": 26,
   "metadata": {},
   "outputs": [
    {
     "name": "stdout",
     "output_type": "stream",
     "text": [
      "Validation AUC: 0.7413\n",
      "Mock submission file saved as rf_submission_mock.csv\n"
     ]
    }
   ],
   "source": [
    "import pandas as pd\n",
    "import numpy as np\n",
    "from sklearn.ensemble import RandomForestClassifier\n",
    "from sklearn.model_selection import train_test_split\n",
    "from sklearn.preprocessing import LabelEncoder\n",
    "from sklearn.metrics import roc_auc_score\n",
    "\n",
    "# 1. Load the single dataset\n",
    "data = pd.read_csv('application_train.csv')\n",
    "\n",
    "# 2. Feature Engineering: EXT_SOURCE statistics\n",
    "def add_ext_features(df):\n",
    "    ext = ['EXT_SOURCE_1', 'EXT_SOURCE_2', 'EXT_SOURCE_3']\n",
    "    df['EXT_MEAN'] = df[ext].mean(axis=1)\n",
    "    df['EXT_PRODUCT'] = df[ext].prod(axis=1)\n",
    "    return df\n",
    "\n",
    "data = add_ext_features(data)\n",
    "\n",
    "# 3. Preprocess: fill NA and label encode\n",
    "def preprocess(df):\n",
    "    df = df.copy()\n",
    "    df = df.fillna(df.median(numeric_only=True))\n",
    "    cat_cols = df.select_dtypes(include='object').columns\n",
    "    le = LabelEncoder()\n",
    "    for col in cat_cols:\n",
    "        df[col] = le.fit_transform(df[col].astype(str))\n",
    "    return df\n",
    "\n",
    "data = preprocess(data)\n",
    "\n",
    "# 4. Prepare X and y, drop ID\n",
    "X = data.drop(columns=['TARGET', 'SK_ID_CURR'])\n",
    "y = data['TARGET']\n",
    "ids = data['SK_ID_CURR']\n",
    "\n",
    "# 5. Split into train and test (80/20)\n",
    "X_train, X_test, y_train, y_test, id_train, id_test = train_test_split(\n",
    "    X, y, ids, test_size=0.2, random_state=42\n",
    ")\n",
    "\n",
    "# 6. Train final model\n",
    "model = RandomForestClassifier(n_estimators=100, max_depth=8, random_state=42, n_jobs=-1)\n",
    "model.fit(X_train, y_train)\n",
    "\n",
    "# 7. Predict on test split\n",
    "y_pred = model.predict_proba(X_test)[:, 1]\n",
    "auc = roc_auc_score(y_test, y_pred)\n",
    "print(f\"Validation AUC: {auc:.4f}\")\n",
    "\n",
    "# 8. Format as \"submission\" (mock)\n",
    "submission = pd.DataFrame({\n",
    "    'SK_ID_CURR': id_test,\n",
    "    'TARGET': y_pred\n",
    "})\n",
    "\n",
    "submission.to_csv('rf_submission_mock.csv', index=False)\n",
    "print(\"Mock submission file saved as rf_submission_mock.csv\")\n"
   ]
  }
 ],
 "metadata": {
  "kernelspec": {
   "display_name": "base",
   "language": "python",
   "name": "python3"
  },
  "language_info": {
   "codemirror_mode": {
    "name": "ipython",
    "version": 3
   },
   "file_extension": ".py",
   "mimetype": "text/x-python",
   "name": "python",
   "nbconvert_exporter": "python",
   "pygments_lexer": "ipython3",
   "version": "3.12.3"
  }
 },
 "nbformat": 4,
 "nbformat_minor": 2
}
